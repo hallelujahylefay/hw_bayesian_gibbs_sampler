{
 "cells": [
  {
   "cell_type": "code",
   "execution_count": 131,
   "metadata": {
    "collapsed": true
   },
   "outputs": [],
   "source": [
    "import matplotlib.pyplot as plt\n",
    "import numpy as np\n",
    "import pickle\n",
    "\n",
    "s_list = [25]\n",
    "Ry_list = [0.8]\n",
    "no_datasets = 2\n",
    "path = \"./OK\""
   ]
  },
  {
   "cell_type": "code",
   "execution_count": 130,
   "outputs": [
    {
     "ename": "FileNotFoundError",
     "evalue": "[Errno 2] No such file or directory: '/home/grothendieck/OUT_SSH/OK/out_0_25_0.5.pickle'",
     "output_type": "error",
     "traceback": [
      "\u001B[0;31m---------------------------------------------------------------------------\u001B[0m",
      "\u001B[0;31mFileNotFoundError\u001B[0m                         Traceback (most recent call last)",
      "Cell \u001B[0;32mIn[130], line 4\u001B[0m\n\u001B[1;32m      2\u001B[0m \u001B[38;5;28;01mfor\u001B[39;00m i \u001B[38;5;129;01min\u001B[39;00m \u001B[38;5;28mrange\u001B[39m(no_datasets):\n\u001B[1;32m      3\u001B[0m     \u001B[38;5;28;01mfor\u001B[39;00m (s, Ry) \u001B[38;5;129;01min\u001B[39;00m \u001B[38;5;28mzip\u001B[39m(s_list, Ry_list):\n\u001B[0;32m----> 4\u001B[0m         \u001B[38;5;28;01mwith\u001B[39;00m \u001B[38;5;28;43mopen\u001B[39;49m\u001B[43m(\u001B[49m\u001B[38;5;124;43mf\u001B[39;49m\u001B[38;5;124;43m'\u001B[39;49m\u001B[38;5;124;43m/home/grothendieck/OUT_SSH/OK/out_\u001B[39;49m\u001B[38;5;132;43;01m{\u001B[39;49;00m\u001B[43mi\u001B[49m\u001B[38;5;132;43;01m}\u001B[39;49;00m\u001B[38;5;124;43m_\u001B[39;49m\u001B[38;5;132;43;01m{\u001B[39;49;00m\u001B[43ms\u001B[49m\u001B[38;5;132;43;01m}\u001B[39;49;00m\u001B[38;5;124;43m_\u001B[39;49m\u001B[38;5;132;43;01m{\u001B[39;49;00m\u001B[43mRy\u001B[49m\u001B[38;5;132;43;01m}\u001B[39;49;00m\u001B[38;5;124;43m.pickle\u001B[39;49m\u001B[38;5;124;43m'\u001B[39;49m\u001B[43m,\u001B[49m\u001B[43m \u001B[49m\u001B[38;5;124;43m'\u001B[39;49m\u001B[38;5;124;43mrb\u001B[39;49m\u001B[38;5;124;43m'\u001B[39;49m\u001B[43m)\u001B[49m \u001B[38;5;28;01mas\u001B[39;00m handle:\n\u001B[1;32m      5\u001B[0m             result[i, s, Ry] \u001B[38;5;241m=\u001B[39m pickle\u001B[38;5;241m.\u001B[39mload(handle)\n",
      "File \u001B[0;32m~/bayesian_hw/hw_bayesian_gibbs_sampler/venv/lib/python3.11/site-packages/IPython/core/interactiveshell.py:310\u001B[0m, in \u001B[0;36m_modified_open\u001B[0;34m(file, *args, **kwargs)\u001B[0m\n\u001B[1;32m    303\u001B[0m \u001B[38;5;28;01mif\u001B[39;00m file \u001B[38;5;129;01min\u001B[39;00m {\u001B[38;5;241m0\u001B[39m, \u001B[38;5;241m1\u001B[39m, \u001B[38;5;241m2\u001B[39m}:\n\u001B[1;32m    304\u001B[0m     \u001B[38;5;28;01mraise\u001B[39;00m \u001B[38;5;167;01mValueError\u001B[39;00m(\n\u001B[1;32m    305\u001B[0m         \u001B[38;5;124mf\u001B[39m\u001B[38;5;124m\"\u001B[39m\u001B[38;5;124mIPython won\u001B[39m\u001B[38;5;124m'\u001B[39m\u001B[38;5;124mt let you open fd=\u001B[39m\u001B[38;5;132;01m{\u001B[39;00mfile\u001B[38;5;132;01m}\u001B[39;00m\u001B[38;5;124m by default \u001B[39m\u001B[38;5;124m\"\u001B[39m\n\u001B[1;32m    306\u001B[0m         \u001B[38;5;124m\"\u001B[39m\u001B[38;5;124mas it is likely to crash IPython. If you know what you are doing, \u001B[39m\u001B[38;5;124m\"\u001B[39m\n\u001B[1;32m    307\u001B[0m         \u001B[38;5;124m\"\u001B[39m\u001B[38;5;124myou can use builtins\u001B[39m\u001B[38;5;124m'\u001B[39m\u001B[38;5;124m open.\u001B[39m\u001B[38;5;124m\"\u001B[39m\n\u001B[1;32m    308\u001B[0m     )\n\u001B[0;32m--> 310\u001B[0m \u001B[38;5;28;01mreturn\u001B[39;00m \u001B[43mio_open\u001B[49m\u001B[43m(\u001B[49m\u001B[43mfile\u001B[49m\u001B[43m,\u001B[49m\u001B[43m \u001B[49m\u001B[38;5;241;43m*\u001B[39;49m\u001B[43margs\u001B[49m\u001B[43m,\u001B[49m\u001B[43m \u001B[49m\u001B[38;5;241;43m*\u001B[39;49m\u001B[38;5;241;43m*\u001B[39;49m\u001B[43mkwargs\u001B[49m\u001B[43m)\u001B[49m\n",
      "\u001B[0;31mFileNotFoundError\u001B[0m: [Errno 2] No such file or directory: '/home/grothendieck/OUT_SSH/OK/out_0_25_0.5.pickle'"
     ]
    }
   ],
   "source": [
    "result = dict()\n",
    "for i in range(no_datasets):\n",
    "    for (s, Ry) in zip(s_list, Ry_list):\n",
    "        with open(f'/home/grothendieck/OUT_SSH/OK/out_{i}_{s}_{Ry}.pickle', 'rb') as handle:\n",
    "            result[i, s, Ry] = pickle.load(handle)"
   ],
   "metadata": {
    "collapsed": false
   }
  },
  {
   "cell_type": "code",
   "execution_count": 132,
   "outputs": [],
   "source": [
    "result = dict()\n",
    "for i in range(no_datasets):\n",
    "    for (s, Ry) in zip(s_list, Ry_list):\n",
    "        with open(f'/home/grothendieck/bayesian_hw/hw_bayesian_gibbs_sampler/OK/{i}_{s}_{Ry}.pickle', 'rb') as handle:\n",
    "            result[i, s, Ry] = pickle.load(handle)"
   ],
   "metadata": {
    "collapsed": false
   }
  },
  {
   "cell_type": "code",
   "execution_count": 90,
   "outputs": [
    {
     "ename": "KeyError",
     "evalue": "(0, 10, 0.02)",
     "output_type": "error",
     "traceback": [
      "\u001B[0;31m---------------------------------------------------------------------------\u001B[0m",
      "\u001B[0;31mKeyError\u001B[0m                                  Traceback (most recent call last)",
      "Cell \u001B[0;32mIn[90], line 1\u001B[0m\n\u001B[0;32m----> 1\u001B[0m plt\u001B[38;5;241m.\u001B[39mhist(\u001B[43m[\u001B[49m\u001B[43mnp\u001B[49m\u001B[38;5;241;43m.\u001B[39;49m\u001B[43mmedian\u001B[49m\u001B[43m(\u001B[49m\u001B[43mresult\u001B[49m\u001B[43m[\u001B[49m\u001B[43mi\u001B[49m\u001B[43m,\u001B[49m\u001B[38;5;241;43m10\u001B[39;49m\u001B[43m,\u001B[49m\u001B[43m \u001B[49m\u001B[38;5;241;43m0.02\u001B[39;49m\u001B[43m]\u001B[49m\u001B[43m[\u001B[49m\u001B[38;5;241;43m1\u001B[39;49m\u001B[43m]\u001B[49m\u001B[43m)\u001B[49m\u001B[43m \u001B[49m\u001B[38;5;28;43;01mfor\u001B[39;49;00m\u001B[43m \u001B[49m\u001B[43mi\u001B[49m\u001B[43m \u001B[49m\u001B[38;5;129;43;01min\u001B[39;49;00m\u001B[43m \u001B[49m\u001B[38;5;28;43mrange\u001B[39;49m\u001B[43m(\u001B[49m\u001B[43mno_datasets\u001B[49m\u001B[43m)\u001B[49m\u001B[43m]\u001B[49m, bins\u001B[38;5;241m=\u001B[39m\u001B[38;5;241m30\u001B[39m)\n",
      "Cell \u001B[0;32mIn[90], line 1\u001B[0m, in \u001B[0;36m<listcomp>\u001B[0;34m(.0)\u001B[0m\n\u001B[0;32m----> 1\u001B[0m plt\u001B[38;5;241m.\u001B[39mhist([np\u001B[38;5;241m.\u001B[39mmedian(\u001B[43mresult\u001B[49m\u001B[43m[\u001B[49m\u001B[43mi\u001B[49m\u001B[43m,\u001B[49m\u001B[38;5;241;43m10\u001B[39;49m\u001B[43m,\u001B[49m\u001B[43m \u001B[49m\u001B[38;5;241;43m0.02\u001B[39;49m\u001B[43m]\u001B[49m[\u001B[38;5;241m1\u001B[39m]) \u001B[38;5;28;01mfor\u001B[39;00m i \u001B[38;5;129;01min\u001B[39;00m \u001B[38;5;28mrange\u001B[39m(no_datasets)], bins\u001B[38;5;241m=\u001B[39m\u001B[38;5;241m30\u001B[39m)\n",
      "\u001B[0;31mKeyError\u001B[0m: (0, 10, 0.02)"
     ]
    }
   ],
   "source": [
    "plt.hist([np.median(result[i,10, 0.02][1]) for i in range(no_datasets)], bins=30)"
   ],
   "metadata": {
    "collapsed": false
   }
  },
  {
   "cell_type": "code",
   "execution_count": 135,
   "outputs": [
    {
     "data": {
      "text/plain": "(array([ 1.,  1.,  3.,  8.,  5., 19., 15., 14., 25., 10., 18., 24., 20.,\n        31., 10., 30., 29., 31., 19., 17., 25., 30., 27., 23., 13., 30.,\n        31., 33., 23., 17., 19., 22., 33., 27., 20., 20., 35., 27., 28.,\n        16., 13., 25., 19.,  8.,  6., 18., 25., 24., 10., 23.]),\n array([0.099  , 0.11698, 0.13496, 0.15294, 0.17092, 0.1889 , 0.20688,\n        0.22486, 0.24284, 0.26082, 0.2788 , 0.29678, 0.31476, 0.33274,\n        0.35072, 0.3687 , 0.38668, 0.40466, 0.42264, 0.44062, 0.4586 ,\n        0.47658, 0.49456, 0.51254, 0.53052, 0.5485 , 0.56648, 0.58446,\n        0.60244, 0.62042, 0.6384 , 0.65638, 0.67436, 0.69234, 0.71032,\n        0.7283 , 0.74628, 0.76426, 0.78224, 0.80022, 0.8182 , 0.83618,\n        0.85416, 0.87214, 0.89012, 0.9081 , 0.92608, 0.94406, 0.96204,\n        0.98002, 0.998  ]),\n <BarContainer object of 50 artists>)"
     },
     "execution_count": 135,
     "metadata": {},
     "output_type": "execute_result"
    },
    {
     "data": {
      "text/plain": "<Figure size 640x480 with 1 Axes>",
      "image/png": "[encoded data removed]"
     },
     "metadata": {},
     "output_type": "display_data"
    }
   ],
   "source": [
    "plt.hist(result[i, 25, 0.5][2][1], bins=50)"
   ],
   "metadata": {
    "collapsed": false
   }
  },
  {
   "cell_type": "code",
   "execution_count": 128,
   "outputs": [
    {
     "ename": "KeyError",
     "evalue": "(1, 25, 0.25)",
     "output_type": "error",
     "traceback": [
      "\u001B[0;31m---------------------------------------------------------------------------\u001B[0m",
      "\u001B[0;31mKeyError\u001B[0m                                  Traceback (most recent call last)",
      "Cell \u001B[0;32mIn[128], line 1\u001B[0m\n\u001B[0;32m----> 1\u001B[0m plt\u001B[38;5;241m.\u001B[39mhist(\u001B[43mresult\u001B[49m\u001B[43m[\u001B[49m\u001B[43mi\u001B[49m\u001B[43m,\u001B[49m\u001B[43m \u001B[49m\u001B[38;5;241;43m25\u001B[39;49m\u001B[43m,\u001B[49m\u001B[43m \u001B[49m\u001B[38;5;241;43m0.25\u001B[39;49m\u001B[43m]\u001B[49m[\u001B[38;5;241m2\u001B[39m][\u001B[38;5;241m1\u001B[39m], bins\u001B[38;5;241m=\u001B[39m\u001B[38;5;241m200\u001B[39m)\n",
      "\u001B[0;31mKeyError\u001B[0m: (1, 25, 0.25)"
     ]
    }
   ],
   "source": [
    "plt.hist(result[i, 25, 0.25][2][1], bins=200)"
   ],
   "metadata": {
    "collapsed": false
   }
  },
  {
   "cell_type": "code",
   "execution_count": 122,
   "outputs": [
    {
     "data": {
      "text/plain": "0.03772"
     },
     "execution_count": 122,
     "metadata": {},
     "output_type": "execute_result"
    }
   ],
   "source": [
    "np.mean(result[i, 5, 0.25][2][1])"
   ],
   "metadata": {
    "collapsed": false
   }
  },
  {
   "cell_type": "code",
   "execution_count": 47,
   "outputs": [
    {
     "data": {
      "text/plain": "array([11.,  4.,  8., ...,  2., 10.,  8.])"
     },
     "execution_count": 47,
     "metadata": {},
     "output_type": "execute_result"
    }
   ],
   "source": [
    "np.sum(result[i, 100, 0.25][2], axis=1)"
   ],
   "metadata": {
    "collapsed": false
   }
  },
  {
   "cell_type": "code",
   "execution_count": 7,
   "outputs": [
    {
     "data": {
      "text/plain": "{(0,\n  100,\n  0.5): (array([0.17 , 0.985, 0.51 , 0.36 , 0.48 , 0.44 , 0.57 , 0.39 , 0.54 ,\n         0.018, 0.78 , 0.85 , 0.63 , 0.36 , 0.12 , 0.6  , 0.53 , 0.19 ,\n         0.24 , 0.82 , 0.25 , 0.41 , 0.075, 0.64 , 0.19 , 0.099, 0.47 ,\n         0.18 , 0.17 , 0.963, 0.17 , 0.64 , 0.24 , 0.057, 0.12 , 0.52 ,\n         0.5  , 0.36 , 0.25 , 0.075, 0.88 , 0.923, 0.37 , 0.66 , 0.099,\n         0.046, 0.099, 0.96 , 0.37 , 0.64 , 0.21 , 0.099, 0.24 , 0.71 ,\n         0.54 , 0.77 , 0.42 , 0.039, 0.65 , 0.47 , 0.24 , 0.65 , 0.21 ,\n         0.49 , 0.33 , 0.28 , 0.78 , 0.75 , 0.5  , 0.33 , 0.59 , 0.64 ,\n         0.72 , 0.58 , 0.84 , 0.12 , 0.76 , 0.009, 0.29 , 0.41 , 0.12 ,\n         0.66 , 0.69 , 0.2  , 0.69 , 0.951, 0.935, 0.86 , 0.67 , 0.68 ,\n         0.57 , 0.68 , 0.14 , 0.6  , 0.24 , 0.936, 0.65 , 0.12 , 0.35 ,\n         0.62 ]), array([0.013, 0.007, 0.003, 0.004, 0.007, 0.999, 0.999, 0.999, 0.007,\n         0.027, 0.017, 0.999, 0.039, 0.007, 0.014, 0.002, 0.012, 0.013,\n         0.02 , 0.015, 0.999, 0.002, 0.001, 0.016, 0.012, 0.006, 0.006,\n         0.004, 0.007, 0.009, 0.004, 0.012, 0.006, 0.006, 0.005, 0.017,\n         0.999, 0.006, 0.001, 0.007, 0.008, 0.001, 0.002, 0.008, 0.011,\n         0.013, 0.018, 0.006, 0.018, 0.01 , 0.001, 0.005, 0.014, 0.031,\n         0.002, 0.003, 0.01 , 0.005, 0.002, 0.012, 0.006, 0.003, 0.025,\n         0.004, 0.999, 0.003, 0.999, 0.002, 0.014, 0.003, 0.02 , 0.006,\n         0.009, 0.005, 0.024, 0.004, 0.021, 0.018, 0.021, 0.005, 0.023,\n         0.002, 0.018, 0.009, 0.999, 0.001, 0.032, 0.009, 0.022, 0.007,\n         0.001, 0.004, 0.007, 0.001, 0.001, 0.017, 0.019, 0.001, 0.031,\n         0.021]), array([[0., 0., 0., ..., 0., 0., 0.],\n         [0., 0., 0., ..., 0., 0., 0.],\n         [0., 0., 0., ..., 0., 0., 0.],\n         ...,\n         [0., 0., 0., ..., 0., 0., 0.],\n         [0., 0., 0., ..., 0., 0., 0.],\n         [0., 0., 0., ..., 0., 0., 0.]]), array([295.39591331, 207.15931808, 220.16128886, 291.21971756,\n         201.3172369 , 213.4634723 , 265.21931055, 240.1736796 ,\n         254.8600987 , 197.67833251, 219.63867796, 243.55150037,\n         257.26592556, 251.1087427 , 245.89461981, 219.33127919,\n         270.46140871, 206.67330504, 256.40362994, 272.1718806 ,\n         237.10486042, 242.41036767, 221.7032503 , 257.69072761,\n         245.68928187, 261.62935499, 255.51953458, 240.54061636,\n         253.76496616, 256.90806523, 242.01639264, 228.90626212,\n         261.18965115, 249.1109609 , 247.93802878, 226.72341564,\n         251.72950478, 205.94931444, 209.48683817, 245.18455539,\n         214.91727805, 270.1528382 , 296.47808355, 223.28514964,\n         231.72997477, 220.06948817, 231.70674515, 293.6659821 ,\n         278.63923724, 228.73436756, 228.16167909, 223.18251863,\n         267.93298118, 238.6254774 , 231.69675418, 226.57301837,\n         255.47200589, 215.44055171, 248.43207393, 285.91467598,\n         216.5826957 , 238.48762216, 236.74439564, 244.09580721,\n         235.8792076 , 184.70355427, 265.65794135, 251.53918423,\n         278.68100303, 226.10541911, 209.9187114 , 223.86936054,\n         206.28000868, 256.68186959, 256.14446417, 262.2195788 ,\n         259.28910927, 231.73813307, 236.95842371, 267.4334599 ,\n         253.37079574, 295.96796705, 242.50955716, 223.23111067,\n         221.43127477, 227.78605892, 229.83933068, 210.37839253,\n         280.82517845, 232.35574044, 221.97162718, 203.81002721,\n         253.06578356, 259.8284336 , 242.61541954, 224.33243765,\n         243.21484126, 237.07819258, 271.33041414, 236.63826993]), array([0., 0., 0., 0., 0., 0., 0., 0., 0., 0., 0., 0., 0., 0., 0., 0., 0.,\n         0., 0., 0., 0., 0., 0., 0., 0., 0., 0., 0., 0., 0., 0., 0., 0., 0.,\n         0., 0., 0., 0., 0., 0., 0., 0., 0., 0., 0., 0., 0., 0., 0., 0., 0.,\n         0., 0., 0., 0., 0., 0., 0., 0., 0., 0., 0., 0., 0., 0., 0., 0., 0.,\n         0., 0., 0., 0., 0., 0., 0., 0., 0., 0., 0., 0., 0., 0., 0., 0., 0.,\n         0., 0., 0., 0., 0., 0., 0., 0., 0., 0., 0., 0., 0., 0., 0.]))}"
     },
     "execution_count": 7,
     "metadata": {},
     "output_type": "execute_result"
    }
   ],
   "source": [
    "result"
   ],
   "metadata": {
    "collapsed": false
   }
  },
  {
   "cell_type": "code",
   "execution_count": null,
   "outputs": [],
   "source": [],
   "metadata": {
    "collapsed": false
   }
  }
 ],
 "metadata": {
  "kernelspec": {
   "display_name": "Python 3",
   "language": "python",
   "name": "python3"
  },
  "language_info": {
   "codemirror_mode": {
    "name": "ipython",
    "version": 2
   },
   "file_extension": ".py",
   "mimetype": "text/x-python",
   "name": "python",
   "nbconvert_exporter": "python",
   "pygments_lexer": "ipython2",
   "version": "2.7.6"
  }
 },
 "nbformat": 4,
 "nbformat_minor": 0
}
