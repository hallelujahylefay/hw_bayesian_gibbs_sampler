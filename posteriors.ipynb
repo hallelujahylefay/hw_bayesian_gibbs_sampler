{
 "cells": [
  {
   "cell_type": "code",
   "execution_count": 2,
   "metadata": {
    "collapsed": true
   },
   "outputs": [],
   "source": [
    "import matplotlib.pyplot as plt\n",
    "import numpy as np\n",
    "import pickle\n",
    "\n",
    "with open('out.pickle', 'rb') as handle:\n",
    "    result = pickle.load(handle)\n",
    "\n",
    "\n",
    "s_list = [5]\n",
    "Ry_list = [0.02]\n",
    "no_datasets = 1"
   ]
  },
  {
   "cell_type": "code",
   "execution_count": 10,
   "outputs": [],
   "source": [
    "for i in range(no_datasets):\n",
    "    for (s, Ry) in zip(s_list, Ry_list):\n",
    "        R2_vs, q_vs, z_vs, sigma2_vs, beta_v_tilde = result[i, s, Ry]\n",
    "        plt.hist(R2_vs)\n",
    "        plt.savefig(f'R2_hist_{i}_{s}_{Ry}.png')\n",
    "        plt.close()\n",
    "\n",
    "        plt.hist(q_vs)\n",
    "        plt.savefig(f'q_hist_{i}_{s}_{Ry}.png')\n",
    "        plt.close()\n",
    "\n",
    "\n",
    "        plt.hist(sigma2_vs)\n",
    "        plt.savefig(f'sigma2_hist_{i}_{s}_{Ry}.png')\n",
    "        plt.close()"
   ],
   "metadata": {
    "collapsed": false
   }
  },
  {
   "cell_type": "code",
   "execution_count": null,
   "outputs": [],
   "source": [],
   "metadata": {
    "collapsed": false
   }
  }
 ],
 "metadata": {
  "kernelspec": {
   "display_name": "Python 3",
   "language": "python",
   "name": "python3"
  },
  "language_info": {
   "codemirror_mode": {
    "name": "ipython",
    "version": 2
   },
   "file_extension": ".py",
   "mimetype": "text/x-python",
   "name": "python",
   "nbconvert_exporter": "python",
   "pygments_lexer": "ipython2",
   "version": "2.7.6"
  }
 },
 "nbformat": 4,
 "nbformat_minor": 0
}
