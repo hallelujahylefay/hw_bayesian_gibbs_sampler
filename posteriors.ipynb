{
 "cells": [
  {
   "cell_type": "code",
   "execution_count": 20,
   "metadata": {
    "collapsed": true
   },
   "outputs": [],
   "source": [
    "import matplotlib.pyplot as plt\n",
    "import numpy as np\n",
    "import pickle\n",
    "\n",
    "\n",
    "s_list = [100]\n",
    "Ry_list = [0.5]\n",
    "no_datasets = 1"
   ]
  },
  {
   "cell_type": "code",
   "execution_count": 21,
   "outputs": [],
   "source": [
    "result = dict()\n",
    "for i in range(no_datasets):\n",
    "    for (s, Ry) in zip(s_list, Ry_list):\n",
    "        with open(f'/home/grothendieck/bayesian_hw/hw_bayesian_gibbs_sampler/OK/out_{i}_{s}_{Ry}.pickle', 'rb') as handle:\n",
    "            result[i, s, Ry] = pickle.load(handle)"
   ],
   "metadata": {
    "collapsed": false
   }
  },
  {
   "cell_type": "code",
   "execution_count": 7,
   "outputs": [],
   "source": [
    "for i in range(no_datasets):\n",
    "    for (s, Ry) in zip(s_list, Ry_list):\n",
    "        R2_vs, q_vs, z_vs, sigma2_vs, beta_v_tilde = result[i, s, Ry]\n",
    "\n",
    "        plt.hist(R2_vs)\n",
    "        plt.title(f\"R2_hist_{i}_{s}_{Ry}.png\")\n",
    "        plt.savefig(f'R2_hist_{i}_{s}_{Ry}.png')\n",
    "        plt.close()\n",
    "\n",
    "        plt.hist(q_vs)\n",
    "        plt.title(f\"q_hist_{i}_{s}_{Ry}.png\")\n",
    "        plt.savefig(f'q_hist_{i}_{s}_{Ry}.png')\n",
    "        plt.close()\n",
    "\n",
    "\n",
    "        plt.hist(sigma2_vs)\n",
    "        plt.title(f\"sigma2_hist_{i}_{s}_{Ry}.png\")\n",
    "        plt.savefig(f'sigma2_hist_{i}_{s}_{Ry}.png')\n",
    "        plt.close()"
   ],
   "metadata": {
    "collapsed": false
   }
  },
  {
   "cell_type": "code",
   "execution_count": 78,
   "outputs": [
    {
     "data": {
      "text/plain": "(array([3., 1., 4., 3., 3., 3., 9., 0., 0., 0., 0., 2., 0., 0., 0., 0., 1.,\n        0., 0., 0., 0., 0., 0., 0., 0., 0., 0., 0., 0., 1.]),\n array([0.085     , 0.08716667, 0.08933333, 0.0915    , 0.09366667,\n        0.09583333, 0.098     , 0.10016667, 0.10233333, 0.1045    ,\n        0.10666667, 0.10883333, 0.111     , 0.11316667, 0.11533333,\n        0.1175    , 0.11966667, 0.12183333, 0.124     , 0.12616667,\n        0.12833333, 0.1305    , 0.13266667, 0.13483333, 0.137     ,\n        0.13916667, 0.14133333, 0.1435    , 0.14566667, 0.14783333,\n        0.15      ]),\n <BarContainer object of 30 artists>)"
     },
     "execution_count": 78,
     "metadata": {},
     "output_type": "execute_result"
    },
    {
     "data": {
      "text/plain": "<Figure size 640x480 with 1 Axes>",
      "image/png": "[encoded data removed]"
     },
     "metadata": {},
     "output_type": "display_data"
    }
   ],
   "source": [
    "plt.hist([np.median(result[i,10, 0.02][1]) for i in range(no_datasets)], bins=30)"
   ],
   "metadata": {
    "collapsed": false
   }
  },
  {
   "cell_type": "code",
   "execution_count": 23,
   "outputs": [
    {
     "data": {
      "text/plain": "(array([  2.,  14.,  29.,  56.,  91., 151., 161., 170., 115., 211.]),\n array([0.16  , 0.2438, 0.3276, 0.4114, 0.4952, 0.579 , 0.6628, 0.7466,\n        0.8304, 0.9142, 0.998 ]),\n <BarContainer object of 10 artists>)"
     },
     "execution_count": 23,
     "metadata": {},
     "output_type": "execute_result"
    },
    {
     "data": {
      "text/plain": "<Figure size 640x480 with 1 Axes>",
      "image/png": "[encoded data removed]"
     },
     "metadata": {},
     "output_type": "display_data"
    }
   ],
   "source": [
    "plt.hist(result[i, 100, 0.5][1])"
   ],
   "metadata": {
    "collapsed": false
   }
  },
  {
   "cell_type": "code",
   "execution_count": 42,
   "outputs": [
    {
     "data": {
      "text/plain": "array([0.11 , 0.064, 0.062, ..., 0.03 , 0.053, 0.078])"
     },
     "execution_count": 42,
     "metadata": {},
     "output_type": "execute_result"
    }
   ],
   "source": [
    "result[i, 100, 0.25][-2]"
   ],
   "metadata": {
    "collapsed": false
   }
  },
  {
   "cell_type": "code",
   "execution_count": 43,
   "outputs": [
    {
     "data": {
      "text/plain": "(array([0.099, 0.076, 0.061, ..., 0.38 , 0.026, 0.15 ]),\n array([0.11 , 0.064, 0.062, ..., 0.03 , 0.053, 0.078]),\n array([[0., 0., 1., ..., 0., 0., 0.],\n        [0., 0., 0., ..., 0., 0., 0.],\n        [0., 0., 0., ..., 0., 1., 0.],\n        ...,\n        [0., 0., 0., ..., 0., 0., 0.],\n        [0., 0., 0., ..., 0., 0., 0.],\n        [0., 0., 0., ..., 1., 0., 0.]]),\n array([191.01238218, 225.16438452, 198.06177367, ..., 214.97567711,\n        260.45619121, 228.06746655]),\n array([ 0.        ,  0.        ,  0.        ,  0.        ,  0.        ,\n         0.07799179,  0.        ,  0.        ,  0.        ,  0.        ,\n         0.        , -1.88323303,  0.        ,  0.        ,  0.        ,\n         0.        ,  0.        ,  0.        ,  0.        ,  0.        ,\n         0.        ,  0.        ,  0.        ,  0.        ,  0.        ,\n         0.        ,  0.        ,  0.        ,  0.        ,  0.        ,\n         0.        ,  0.        ,  0.        ,  0.        ,  0.        ,\n         0.        ,  2.3160829 ,  0.        ,  0.        ,  0.        ,\n         0.        ,  0.        ,  0.        ,  0.        ,  0.        ,\n         0.        ,  0.        ,  0.        ,  0.        ,  0.        ,\n         0.        ,  0.        ,  0.        ,  0.        ,  0.        ,\n         0.        ,  0.        ,  0.        ,  0.        ,  0.        ,\n         0.        ,  0.        ,  0.        ,  0.        ,  0.        ,\n         0.        ,  0.        ,  0.        ,  0.77586678,  0.81931628,\n         0.        ,  0.        ,  0.        ,  0.        ,  0.        ,\n         0.        ,  0.        ,  0.        ,  0.        ,  0.        ,\n         0.        ,  0.        ,  0.        ,  0.        ,  1.3050122 ,\n         0.        , -0.13022379,  0.        ,  0.        ,  0.        ,\n         0.        ,  0.        ,  0.        ,  0.        ,  0.        ,\n         0.        ,  0.        , -1.94784443,  0.        ,  0.        ]))"
     },
     "execution_count": 43,
     "metadata": {},
     "output_type": "execute_result"
    }
   ],
   "source": [
    "result[i, 100, 0.25]"
   ],
   "metadata": {
    "collapsed": false
   }
  },
  {
   "cell_type": "code",
   "execution_count": 47,
   "outputs": [
    {
     "data": {
      "text/plain": "array([11.,  4.,  8., ...,  2., 10.,  8.])"
     },
     "execution_count": 47,
     "metadata": {},
     "output_type": "execute_result"
    }
   ],
   "source": [
    "np.sum(result[i, 100, 0.25][2], axis=1)"
   ],
   "metadata": {
    "collapsed": false
   }
  },
  {
   "cell_type": "code",
   "execution_count": 7,
   "outputs": [
    {
     "data": {
      "text/plain": "{(0,\n  100,\n  0.5): (array([0.17 , 0.985, 0.51 , 0.36 , 0.48 , 0.44 , 0.57 , 0.39 , 0.54 ,\n         0.018, 0.78 , 0.85 , 0.63 , 0.36 , 0.12 , 0.6  , 0.53 , 0.19 ,\n         0.24 , 0.82 , 0.25 , 0.41 , 0.075, 0.64 , 0.19 , 0.099, 0.47 ,\n         0.18 , 0.17 , 0.963, 0.17 , 0.64 , 0.24 , 0.057, 0.12 , 0.52 ,\n         0.5  , 0.36 , 0.25 , 0.075, 0.88 , 0.923, 0.37 , 0.66 , 0.099,\n         0.046, 0.099, 0.96 , 0.37 , 0.64 , 0.21 , 0.099, 0.24 , 0.71 ,\n         0.54 , 0.77 , 0.42 , 0.039, 0.65 , 0.47 , 0.24 , 0.65 , 0.21 ,\n         0.49 , 0.33 , 0.28 , 0.78 , 0.75 , 0.5  , 0.33 , 0.59 , 0.64 ,\n         0.72 , 0.58 , 0.84 , 0.12 , 0.76 , 0.009, 0.29 , 0.41 , 0.12 ,\n         0.66 , 0.69 , 0.2  , 0.69 , 0.951, 0.935, 0.86 , 0.67 , 0.68 ,\n         0.57 , 0.68 , 0.14 , 0.6  , 0.24 , 0.936, 0.65 , 0.12 , 0.35 ,\n         0.62 ]), array([0.013, 0.007, 0.003, 0.004, 0.007, 0.999, 0.999, 0.999, 0.007,\n         0.027, 0.017, 0.999, 0.039, 0.007, 0.014, 0.002, 0.012, 0.013,\n         0.02 , 0.015, 0.999, 0.002, 0.001, 0.016, 0.012, 0.006, 0.006,\n         0.004, 0.007, 0.009, 0.004, 0.012, 0.006, 0.006, 0.005, 0.017,\n         0.999, 0.006, 0.001, 0.007, 0.008, 0.001, 0.002, 0.008, 0.011,\n         0.013, 0.018, 0.006, 0.018, 0.01 , 0.001, 0.005, 0.014, 0.031,\n         0.002, 0.003, 0.01 , 0.005, 0.002, 0.012, 0.006, 0.003, 0.025,\n         0.004, 0.999, 0.003, 0.999, 0.002, 0.014, 0.003, 0.02 , 0.006,\n         0.009, 0.005, 0.024, 0.004, 0.021, 0.018, 0.021, 0.005, 0.023,\n         0.002, 0.018, 0.009, 0.999, 0.001, 0.032, 0.009, 0.022, 0.007,\n         0.001, 0.004, 0.007, 0.001, 0.001, 0.017, 0.019, 0.001, 0.031,\n         0.021]), array([[0., 0., 0., ..., 0., 0., 0.],\n         [0., 0., 0., ..., 0., 0., 0.],\n         [0., 0., 0., ..., 0., 0., 0.],\n         ...,\n         [0., 0., 0., ..., 0., 0., 0.],\n         [0., 0., 0., ..., 0., 0., 0.],\n         [0., 0., 0., ..., 0., 0., 0.]]), array([295.39591331, 207.15931808, 220.16128886, 291.21971756,\n         201.3172369 , 213.4634723 , 265.21931055, 240.1736796 ,\n         254.8600987 , 197.67833251, 219.63867796, 243.55150037,\n         257.26592556, 251.1087427 , 245.89461981, 219.33127919,\n         270.46140871, 206.67330504, 256.40362994, 272.1718806 ,\n         237.10486042, 242.41036767, 221.7032503 , 257.69072761,\n         245.68928187, 261.62935499, 255.51953458, 240.54061636,\n         253.76496616, 256.90806523, 242.01639264, 228.90626212,\n         261.18965115, 249.1109609 , 247.93802878, 226.72341564,\n         251.72950478, 205.94931444, 209.48683817, 245.18455539,\n         214.91727805, 270.1528382 , 296.47808355, 223.28514964,\n         231.72997477, 220.06948817, 231.70674515, 293.6659821 ,\n         278.63923724, 228.73436756, 228.16167909, 223.18251863,\n         267.93298118, 238.6254774 , 231.69675418, 226.57301837,\n         255.47200589, 215.44055171, 248.43207393, 285.91467598,\n         216.5826957 , 238.48762216, 236.74439564, 244.09580721,\n         235.8792076 , 184.70355427, 265.65794135, 251.53918423,\n         278.68100303, 226.10541911, 209.9187114 , 223.86936054,\n         206.28000868, 256.68186959, 256.14446417, 262.2195788 ,\n         259.28910927, 231.73813307, 236.95842371, 267.4334599 ,\n         253.37079574, 295.96796705, 242.50955716, 223.23111067,\n         221.43127477, 227.78605892, 229.83933068, 210.37839253,\n         280.82517845, 232.35574044, 221.97162718, 203.81002721,\n         253.06578356, 259.8284336 , 242.61541954, 224.33243765,\n         243.21484126, 237.07819258, 271.33041414, 236.63826993]), array([0., 0., 0., 0., 0., 0., 0., 0., 0., 0., 0., 0., 0., 0., 0., 0., 0.,\n         0., 0., 0., 0., 0., 0., 0., 0., 0., 0., 0., 0., 0., 0., 0., 0., 0.,\n         0., 0., 0., 0., 0., 0., 0., 0., 0., 0., 0., 0., 0., 0., 0., 0., 0.,\n         0., 0., 0., 0., 0., 0., 0., 0., 0., 0., 0., 0., 0., 0., 0., 0., 0.,\n         0., 0., 0., 0., 0., 0., 0., 0., 0., 0., 0., 0., 0., 0., 0., 0., 0.,\n         0., 0., 0., 0., 0., 0., 0., 0., 0., 0., 0., 0., 0., 0., 0.]))}"
     },
     "execution_count": 7,
     "metadata": {},
     "output_type": "execute_result"
    }
   ],
   "source": [
    "result"
   ],
   "metadata": {
    "collapsed": false
   }
  },
  {
   "cell_type": "code",
   "execution_count": null,
   "outputs": [],
   "source": [],
   "metadata": {
    "collapsed": false
   }
  }
 ],
 "metadata": {
  "kernelspec": {
   "display_name": "Python 3",
   "language": "python",
   "name": "python3"
  },
  "language_info": {
   "codemirror_mode": {
    "name": "ipython",
    "version": 2
   },
   "file_extension": ".py",
   "mimetype": "text/x-python",
   "name": "python",
   "nbconvert_exporter": "python",
   "pygments_lexer": "ipython2",
   "version": "2.7.6"
  }
 },
 "nbformat": 4,
 "nbformat_minor": 0
}
